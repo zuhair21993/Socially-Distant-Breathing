{
 "cells": [
  {
   "cell_type": "code",
   "execution_count": 1,
   "metadata": {},
   "outputs": [],
   "source": [
    "import os\n",
    "import csv\n",
    "import pandas as pd\n",
    "import requests\n",
    "import zipfile\n",
    "import glob"
   ]
  },
  {
   "cell_type": "code",
   "execution_count": 2,
   "metadata": {},
   "outputs": [],
   "source": [
    "def zip_download(query_url, out_file):\n",
    "    r = requests.get(query_url)\n",
    "    with open('data.zip', 'wb') as f:\n",
    "        f.write(r.content)\n",
    "        f.close()\n",
    "    with zipfile.ZipFile('data.zip', 'r') as data_zip:\n",
    "        data_zip.extractall(out_file)\n",
    "\n",
    "#Downloading Ozone Gas Data\n",
    "for i in range(1980, 2020):\n",
    "    url_1 = \"https://aqs.epa.gov/aqsweb/airdata/daily_44201_{}.zip\".format(i)\n",
    "    out_file_1 = \"Resources/daily_gases_data/ozone/\"\n",
    "    zip_download(url_1, out_file_1)\n",
    "    \n",
    "#Downloading SO2 Gas Data\n",
    "for i in range(1980, 2020):\n",
    "    url_2 = \"https://aqs.epa.gov/aqsweb/airdata/daily_42401_{}.zip\".format(i)\n",
    "    out_file_2 = \"Resources/daily_gases_data/SO2/\"\n",
    "    zip_download(url_2, out_file_2)\n",
    "    \n",
    "#Downloading CO Gas Data\n",
    "for i in range(1980, 2020):\n",
    "    url_3 = \"https://aqs.epa.gov/aqsweb/airdata/daily_42101_{}.zip\".format(i)\n",
    "    out_file_3 = \"Resources/daily_gases_data/CO/\"\n",
    "    zip_download(url_3, out_file_3)\n",
    "\n",
    "#Downloading NO2 Gas Data\n",
    "for i in range(1980, 2020):\n",
    "    url_4 = \"https://aqs.epa.gov/aqsweb/airdata/daily_42602_{}.zip\".format(i)\n",
    "    out_file_4 = \"Resources/daily_gases_data/NO2/\"\n",
    "    zip_download(url_4, out_file_4)"
   ]
  },
  {
   "cell_type": "code",
   "execution_count": 4,
   "metadata": {},
   "outputs": [],
   "source": [
    "def concatenate(indir, outfile):\n",
    "    os.chdir(indir)\n",
    "    fileList = glob.glob(\"*.csv\")\n",
    "    dfList = []\n",
    "    for filename in fileList:\n",
    "        #print(filename) \"commented out to avoid being printed on terminal\"\n",
    "        df = pd.read_csv(filename)\n",
    "        dfList.append(df)\n",
    "    concatDF = pd.concat(dfList, axis=0)\n",
    "    concatDF.to_csv(outfile, index=None)\n",
    "    \n",
    "# ozone_dir = \"D:/bootcamp/Project _ 2/Resources/daily_gases_data/ozone\"\n",
    "# ozone_output = \"D:/bootcamp/Project _ 2/Resources/daily_gases_compiled/ozone_compiled.csv\"\n",
    "# concatenate(ozone_dir, ozone_output)\n",
    "\n",
    "# so2_dir = \"D:/bootcamp/Project _ 2/Resources/daily_gases_data/SO2\"\n",
    "# so2_output = \"D:/bootcamp/Project _ 2/Resources/daily_gases_compiled/so2_compiled.csv\"\n",
    "# concatenate(so2_dir, so2_output)\n",
    "\n",
    "# co_dir = \"D:/bootcamp/Project _ 2/Resources/daily_gases_data/CO\"\n",
    "# co_output = \"D:/bootcamp/Project _ 2/Resources/daily_gases_compiled/co_compiled.csv\"\n",
    "# concatenate(co_dir, co_output)\n",
    "\n",
    "no2_dir = \"D:/bootcamp/Project _ 2/Resources/daily_gases_data/NO2\"\n",
    "no2_output = \"D:/bootcamp/Project _ 2/Resources/daily_gases_compiled/no2_compiled.csv\"\n",
    "concatenate(no2_dir, no2_output)"
   ]
  },
  {
   "cell_type": "code",
   "execution_count": null,
   "metadata": {},
   "outputs": [],
   "source": []
  }
 ],
 "metadata": {
  "kernelspec": {
   "display_name": "Python 3",
   "language": "python",
   "name": "python3"
  },
  "language_info": {
   "codemirror_mode": {
    "name": "ipython",
    "version": 3
   },
   "file_extension": ".py",
   "mimetype": "text/x-python",
   "name": "python",
   "nbconvert_exporter": "python",
   "pygments_lexer": "ipython3",
   "version": "3.7.1"
  }
 },
 "nbformat": 4,
 "nbformat_minor": 2
}
