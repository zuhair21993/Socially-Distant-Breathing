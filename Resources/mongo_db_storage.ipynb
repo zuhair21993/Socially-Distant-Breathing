{
 "cells": [
  {
   "cell_type": "code",
   "execution_count": 1,
   "metadata": {},
   "outputs": [],
   "source": [
    "import pandas as pd\n",
    "import pymongo\n",
    "import json\n",
    "import numpy as np\n",
    "from pprint import pprint "
   ]
  },
  {
   "cell_type": "code",
   "execution_count": 2,
   "metadata": {},
   "outputs": [],
   "source": [
    "conn = 'mongodb://localhost:27017'\n",
    "client = pymongo.MongoClient(conn)"
   ]
  },
  {
   "cell_type": "code",
   "execution_count": 22,
   "metadata": {},
   "outputs": [],
   "source": [
    "db = client.still_breathing\n",
    "aqi_collection = db.aqi_collection\n",
    "co_collection = db.co_collection\n",
    "no2_collection = db.no2_collection\n",
    "ozone_collection = db.ozone_collection\n",
    "so2_collection = db.so2_collection\n",
    "asthma_hosp_collection = db.asthma_hosp_collection\n",
    "asthma_ed_collection = db.asthma_ed_collection\n",
    "copd_hosp_collection = db.copd_hosp_collection"
   ]
  },
  {
   "cell_type": "code",
   "execution_count": 23,
   "metadata": {},
   "outputs": [],
   "source": [
    "#Air Quality Index DataFrame\n",
    "aqi_complete_df = pd.read_csv(\"input/aqi_compiled.csv\")\n",
    "\n",
    "#Air Pollutants DataFrame\n",
    "co_df = pd.read_csv(\"input/co_compiled.csv\")\n",
    "no2_df = pd.read_csv(\"input/no2_compiled.csv\")\n",
    "ozone_df = pd.read_csv(\"input/ozone_compiled.csv\")\n",
    "so2_df = pd.read_csv(\"input/so2_compiled.csv\")\n",
    "\n",
    "asthma_hosp = pd.read_csv(\"input/Asthma_Hosp.csv\")\n",
    "asthma_ed_visits = pd.read_csv(\"input/asthma_ed-visits.csv\")\n",
    "copd_hosp = pd.read_csv(\"input/copd_hosp.csv\")"
   ]
  },
  {
   "cell_type": "code",
   "execution_count": 24,
   "metadata": {},
   "outputs": [
    {
     "data": {
      "text/plain": [
       "<pymongo.results.InsertManyResult at 0x20b7e61a688>"
      ]
     },
     "execution_count": 24,
     "metadata": {},
     "output_type": "execute_result"
    }
   ],
   "source": [
    "aqi_json = aqi_complete_df.to_json(orient='records')\n",
    "co_json = co_df.to_json(orient='records')\n",
    "no2_json = no2_df.to_json(orient='records')\n",
    "ozone_json = ozone_df.to_json(orient='records')\n",
    "so2_json = so2_df.to_json(orient='records')\n",
    "asthma_hosp_json = asthma_hosp.to_json(orient='records')\n",
    "asthma_ed_visits_json = asthma_ed_visits.to_json(orient='records')\n",
    "copd_hosp_json = copd_hosp.to_json(orient='records')\n",
    "\n",
    "aqi_records = json.loads(aqi_json)\n",
    "co_records = json.loads(co_json)\n",
    "no2_records = json.loads(no2_json)\n",
    "ozone_records = json.loads(ozone_json)\n",
    "so2_records = json.loads(so2_json)\n",
    "asthma_hosp_records = json.loads(asthma_hosp_json)\n",
    "asthma_ed_visits_records = json.loads(asthma_ed_visits_json)\n",
    "copd_hosp_records = json.loads(copd_hosp_json)\n",
    "\n",
    "db.aqi_collection.insert_many(aqi_records)\n",
    "db.co_collection.insert_many(co_records)\n",
    "db.no2_collection.insert_many(no2_records)\n",
    "db.ozone_collection.insert_many(ozone_records)\n",
    "db.so2_collection.insert_many(so2_records)\n",
    "db.asthma_hosp_collection.insert_many(asthma_hosp_records)\n",
    "db.asthma_ed_collection.insert_many(asthma_ed_visits_records)\n",
    "db.copd_hosp_collection.insert_many(copd_hosp_records)\n"
   ]
  },
  {
   "cell_type": "code",
   "execution_count": 12,
   "metadata": {},
   "outputs": [],
   "source": [
    "aqi_complete_df.reset_index(drop=True, inplace=True)\n",
    "aqi_complete_df.to_json(\"output/aqi_data.js\", orient='records')"
   ]
  },
  {
   "cell_type": "code",
   "execution_count": 25,
   "metadata": {},
   "outputs": [],
   "source": [
    "co_df.reset_index(drop=True, inplace=True)\n",
    "co_df.to_json(\"output/co_data.js\", orient='records')"
   ]
  },
  {
   "cell_type": "code",
   "execution_count": 26,
   "metadata": {},
   "outputs": [],
   "source": [
    "no2_df.reset_index(drop=True, inplace=True)\n",
    "no2_df.to_json(\"output/no2_data.js\", orient='records')"
   ]
  },
  {
   "cell_type": "code",
   "execution_count": 15,
   "metadata": {},
   "outputs": [],
   "source": [
    "ozone_df.reset_index(drop=True, inplace=True)\n",
    "ozone_df.to_json(\"output/ozone_data.js\", orient='records')"
   ]
  },
  {
   "cell_type": "code",
   "execution_count": 16,
   "metadata": {},
   "outputs": [],
   "source": [
    "so2_df.reset_index(drop=True, inplace=True)\n",
    "so2_df.to_json(\"output/so2_data.js\", orient='records')"
   ]
  },
  {
   "cell_type": "code",
   "execution_count": 17,
   "metadata": {},
   "outputs": [],
   "source": [
    "asthma_hosp.reset_index(drop=True, inplace=True)\n",
    "asthma_hosp.to_json(\"output/asthma_hosp_data.js\", orient='records')"
   ]
  },
  {
   "cell_type": "code",
   "execution_count": 18,
   "metadata": {},
   "outputs": [],
   "source": [
    "asthma_ed_visits.reset_index(drop=True, inplace=True)\n",
    "asthma_ed_visits.to_json(\"output/asthma_ed_visits_data.js\", orient='records')"
   ]
  },
  {
   "cell_type": "code",
   "execution_count": 19,
   "metadata": {},
   "outputs": [],
   "source": [
    "copd_hosp.reset_index(drop=True, inplace=True)\n",
    "copd_hosp.to_json(\"output/copd_hosp_data.js\", orient='records')"
   ]
  },
  {
   "cell_type": "code",
   "execution_count": 21,
   "metadata": {
    "scrolled": true
   },
   "outputs": [
    {
     "name": "stdout",
     "output_type": "stream",
     "text": [
      "{'CT COPD Hospitalizations': '9,844',\n",
      " 'NJ COPD Hospitalizations': '15512',\n",
      " 'NY COPD Hospitalizations': '31,693',\n",
      " 'Year': 2006,\n",
      " '_id': ObjectId('5e756a99d8fae7415cd57335')}\n",
      "{'CT COPD Hospitalizations': '9,907',\n",
      " 'NJ COPD Hospitalizations': '15691',\n",
      " 'NY COPD Hospitalizations': '31,315',\n",
      " 'Year': 2007,\n",
      " '_id': ObjectId('5e756a99d8fae7415cd57336')}\n",
      "{'CT COPD Hospitalizations': '11,094',\n",
      " 'NJ COPD Hospitalizations': '17,961',\n",
      " 'NY COPD Hospitalizations': '36,163',\n",
      " 'Year': 2008,\n",
      " '_id': ObjectId('5e756a99d8fae7415cd57337')}\n",
      "{'CT COPD Hospitalizations': '11,506',\n",
      " 'NJ COPD Hospitalizations': '17,920',\n",
      " 'NY COPD Hospitalizations': '37,164',\n",
      " 'Year': 2009,\n",
      " '_id': ObjectId('5e756a99d8fae7415cd57338')}\n",
      "{'CT COPD Hospitalizations': '10,747',\n",
      " 'NJ COPD Hospitalizations': '17,626',\n",
      " 'NY COPD Hospitalizations': '36,781',\n",
      " 'Year': 2010,\n",
      " '_id': ObjectId('5e756a99d8fae7415cd57339')}\n",
      "{'CT COPD Hospitalizations': '10,900',\n",
      " 'NJ COPD Hospitalizations': '18,458',\n",
      " 'NY COPD Hospitalizations': '37,845',\n",
      " 'Year': 2011,\n",
      " '_id': ObjectId('5e756a99d8fae7415cd5733a')}\n",
      "{'CT COPD Hospitalizations': '10,836',\n",
      " 'NJ COPD Hospitalizations': '17,380',\n",
      " 'NY COPD Hospitalizations': '37,002',\n",
      " 'Year': 2012,\n",
      " '_id': ObjectId('5e756a99d8fae7415cd5733b')}\n",
      "{'CT COPD Hospitalizations': '10,448',\n",
      " 'NJ COPD Hospitalizations': '16,934',\n",
      " 'NY COPD Hospitalizations': '34,102',\n",
      " 'Year': 2013,\n",
      " '_id': ObjectId('5e756a99d8fae7415cd5733c')}\n",
      "{'CT COPD Hospitalizations': '10,295',\n",
      " 'NJ COPD Hospitalizations': '14,950',\n",
      " 'NY COPD Hospitalizations': '31,633',\n",
      " 'Year': 2014,\n",
      " '_id': ObjectId('5e756a99d8fae7415cd5733d')}\n",
      "{'CT COPD Hospitalizations': '7,498',\n",
      " 'NJ COPD Hospitalizations': '15,673',\n",
      " 'NY COPD Hospitalizations': '32,980',\n",
      " 'Year': 2015,\n",
      " '_id': ObjectId('5e756a99d8fae7415cd5733e')}\n",
      "{'CT COPD Hospitalizations': None,\n",
      " 'NJ COPD Hospitalizations': '17,589',\n",
      " 'NY COPD Hospitalizations': '37,816',\n",
      " 'Year': 2016,\n",
      " '_id': ObjectId('5e756a99d8fae7415cd5733f')}\n"
     ]
    }
   ],
   "source": [
    "#Making sure data loads from mongo-server\n",
    "copd_hosp_data = db.copd_hosp_collection.find()\n",
    "for data in copd_hosp_data:\n",
    "    pprint(data)"
   ]
  },
  {
   "cell_type": "code",
   "execution_count": null,
   "metadata": {},
   "outputs": [],
   "source": []
  }
 ],
 "metadata": {
  "kernelspec": {
   "display_name": "Python 3",
   "language": "python",
   "name": "python3"
  },
  "language_info": {
   "codemirror_mode": {
    "name": "ipython",
    "version": 3
   },
   "file_extension": ".py",
   "mimetype": "text/x-python",
   "name": "python",
   "nbconvert_exporter": "python",
   "pygments_lexer": "ipython3",
   "version": "3.7.6"
  }
 },
 "nbformat": 4,
 "nbformat_minor": 2
}
