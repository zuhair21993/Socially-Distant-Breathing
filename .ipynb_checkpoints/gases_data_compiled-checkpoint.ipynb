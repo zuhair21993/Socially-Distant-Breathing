{
 "cells": [
  {
   "cell_type": "code",
   "execution_count": 1,
   "metadata": {},
   "outputs": [],
   "source": [
    "import pandas as pd"
   ]
  },
  {
   "cell_type": "code",
   "execution_count": 2,
   "metadata": {},
   "outputs": [],
   "source": [
    "co_df = pd.read_csv(\"input/co_compiled.csv\", low_memory=False)\n",
    "so2_df = pd.read_csv(\"input/so2_compiled.csv\", low_memory=False)\n",
    "no2_df = pd.read_csv(\"input/no2_compiled.csv\", low_memory=False)\n",
    "ozone_df = pd.read_csv(\"input/ozone_compiled.csv\", low_memory=False)"
   ]
  },
  {
   "cell_type": "code",
   "execution_count": 19,
   "metadata": {},
   "outputs": [
    {
     "data": {
      "text/html": [
       "<div>\n",
       "<style scoped>\n",
       "    .dataframe tbody tr th:only-of-type {\n",
       "        vertical-align: middle;\n",
       "    }\n",
       "\n",
       "    .dataframe tbody tr th {\n",
       "        vertical-align: top;\n",
       "    }\n",
       "\n",
       "    .dataframe thead th {\n",
       "        text-align: right;\n",
       "    }\n",
       "</style>\n",
       "<table border=\"1\" class=\"dataframe\">\n",
       "  <thead>\n",
       "    <tr style=\"text-align: right;\">\n",
       "      <th></th>\n",
       "      <th>Latitude</th>\n",
       "      <th>Longitude</th>\n",
       "      <th>Parameter Name</th>\n",
       "      <th>Date Local</th>\n",
       "      <th>Units of Measure</th>\n",
       "      <th>State Name</th>\n",
       "      <th>Arithmetic Mean</th>\n",
       "    </tr>\n",
       "  </thead>\n",
       "  <tbody>\n",
       "    <tr>\n",
       "      <th>0</th>\n",
       "      <td>34.687761</td>\n",
       "      <td>-86.586362</td>\n",
       "      <td>Nitrogen dioxide (NO2)</td>\n",
       "      <td>1980-01-01</td>\n",
       "      <td>Parts per billion</td>\n",
       "      <td>Alabama</td>\n",
       "      <td>22.916667</td>\n",
       "    </tr>\n",
       "    <tr>\n",
       "      <th>1</th>\n",
       "      <td>34.687761</td>\n",
       "      <td>-86.586362</td>\n",
       "      <td>Nitrogen dioxide (NO2)</td>\n",
       "      <td>1980-01-02</td>\n",
       "      <td>Parts per billion</td>\n",
       "      <td>Alabama</td>\n",
       "      <td>34.636364</td>\n",
       "    </tr>\n",
       "    <tr>\n",
       "      <th>2</th>\n",
       "      <td>34.687761</td>\n",
       "      <td>-86.586362</td>\n",
       "      <td>Nitrogen dioxide (NO2)</td>\n",
       "      <td>1980-01-03</td>\n",
       "      <td>Parts per billion</td>\n",
       "      <td>Alabama</td>\n",
       "      <td>35.000000</td>\n",
       "    </tr>\n",
       "    <tr>\n",
       "      <th>3</th>\n",
       "      <td>34.687761</td>\n",
       "      <td>-86.586362</td>\n",
       "      <td>Nitrogen dioxide (NO2)</td>\n",
       "      <td>1980-01-04</td>\n",
       "      <td>Parts per billion</td>\n",
       "      <td>Alabama</td>\n",
       "      <td>14.333333</td>\n",
       "    </tr>\n",
       "    <tr>\n",
       "      <th>4</th>\n",
       "      <td>34.687761</td>\n",
       "      <td>-86.586362</td>\n",
       "      <td>Nitrogen dioxide (NO2)</td>\n",
       "      <td>1980-01-05</td>\n",
       "      <td>Parts per billion</td>\n",
       "      <td>Alabama</td>\n",
       "      <td>13.916667</td>\n",
       "    </tr>\n",
       "    <tr>\n",
       "      <th>...</th>\n",
       "      <td>...</td>\n",
       "      <td>...</td>\n",
       "      <td>...</td>\n",
       "      <td>...</td>\n",
       "      <td>...</td>\n",
       "      <td>...</td>\n",
       "      <td>...</td>\n",
       "    </tr>\n",
       "    <tr>\n",
       "      <th>5080424</th>\n",
       "      <td>18.422595</td>\n",
       "      <td>-66.120012</td>\n",
       "      <td>Nitrogen dioxide (NO2)</td>\n",
       "      <td>2019-06-26</td>\n",
       "      <td>Parts per billion</td>\n",
       "      <td>Puerto Rico</td>\n",
       "      <td>12.115000</td>\n",
       "    </tr>\n",
       "    <tr>\n",
       "      <th>5080425</th>\n",
       "      <td>18.422595</td>\n",
       "      <td>-66.120012</td>\n",
       "      <td>Nitrogen dioxide (NO2)</td>\n",
       "      <td>2019-06-27</td>\n",
       "      <td>Parts per billion</td>\n",
       "      <td>Puerto Rico</td>\n",
       "      <td>13.708333</td>\n",
       "    </tr>\n",
       "    <tr>\n",
       "      <th>5080426</th>\n",
       "      <td>18.422595</td>\n",
       "      <td>-66.120012</td>\n",
       "      <td>Nitrogen dioxide (NO2)</td>\n",
       "      <td>2019-06-28</td>\n",
       "      <td>Parts per billion</td>\n",
       "      <td>Puerto Rico</td>\n",
       "      <td>13.537500</td>\n",
       "    </tr>\n",
       "    <tr>\n",
       "      <th>5080427</th>\n",
       "      <td>18.422595</td>\n",
       "      <td>-66.120012</td>\n",
       "      <td>Nitrogen dioxide (NO2)</td>\n",
       "      <td>2019-06-29</td>\n",
       "      <td>Parts per billion</td>\n",
       "      <td>Puerto Rico</td>\n",
       "      <td>13.841667</td>\n",
       "    </tr>\n",
       "    <tr>\n",
       "      <th>5080428</th>\n",
       "      <td>18.422595</td>\n",
       "      <td>-66.120012</td>\n",
       "      <td>Nitrogen dioxide (NO2)</td>\n",
       "      <td>2019-06-30</td>\n",
       "      <td>Parts per billion</td>\n",
       "      <td>Puerto Rico</td>\n",
       "      <td>13.550000</td>\n",
       "    </tr>\n",
       "  </tbody>\n",
       "</table>\n",
       "<p>5080429 rows × 7 columns</p>\n",
       "</div>"
      ],
      "text/plain": [
       "          Latitude  Longitude          Parameter Name  Date Local  \\\n",
       "0        34.687761 -86.586362  Nitrogen dioxide (NO2)  1980-01-01   \n",
       "1        34.687761 -86.586362  Nitrogen dioxide (NO2)  1980-01-02   \n",
       "2        34.687761 -86.586362  Nitrogen dioxide (NO2)  1980-01-03   \n",
       "3        34.687761 -86.586362  Nitrogen dioxide (NO2)  1980-01-04   \n",
       "4        34.687761 -86.586362  Nitrogen dioxide (NO2)  1980-01-05   \n",
       "...            ...        ...                     ...         ...   \n",
       "5080424  18.422595 -66.120012  Nitrogen dioxide (NO2)  2019-06-26   \n",
       "5080425  18.422595 -66.120012  Nitrogen dioxide (NO2)  2019-06-27   \n",
       "5080426  18.422595 -66.120012  Nitrogen dioxide (NO2)  2019-06-28   \n",
       "5080427  18.422595 -66.120012  Nitrogen dioxide (NO2)  2019-06-29   \n",
       "5080428  18.422595 -66.120012  Nitrogen dioxide (NO2)  2019-06-30   \n",
       "\n",
       "          Units of Measure   State Name  Arithmetic Mean  \n",
       "0        Parts per billion      Alabama        22.916667  \n",
       "1        Parts per billion      Alabama        34.636364  \n",
       "2        Parts per billion      Alabama        35.000000  \n",
       "3        Parts per billion      Alabama        14.333333  \n",
       "4        Parts per billion      Alabama        13.916667  \n",
       "...                    ...          ...              ...  \n",
       "5080424  Parts per billion  Puerto Rico        12.115000  \n",
       "5080425  Parts per billion  Puerto Rico        13.708333  \n",
       "5080426  Parts per billion  Puerto Rico        13.537500  \n",
       "5080427  Parts per billion  Puerto Rico        13.841667  \n",
       "5080428  Parts per billion  Puerto Rico        13.550000  \n",
       "\n",
       "[5080429 rows x 7 columns]"
      ]
     },
     "execution_count": 19,
     "metadata": {},
     "output_type": "execute_result"
    }
   ],
   "source": [
    "summarized_merged_df = no2_df[[\"Latitude\", \"Longitude\", \"Parameter Name\", \"Date Local\", \"Units of Measure\",\n",
    "                                  \"State Name\", \"Arithmetic Mean\"]]\n",
    "summarized_merged_df"
   ]
  },
  {
   "cell_type": "code",
   "execution_count": 12,
   "metadata": {},
   "outputs": [
    {
     "name": "stderr",
     "output_type": "stream",
     "text": [
      "C:\\Users\\AU0006AU\\AppData\\Local\\Continuum\\anaconda3\\envs\\pythondata\\lib\\site-packages\\ipykernel_launcher.py:1: SettingWithCopyWarning: \n",
      "A value is trying to be set on a copy of a slice from a DataFrame.\n",
      "Try using .loc[row_indexer,col_indexer] = value instead\n",
      "\n",
      "See the caveats in the documentation: http://pandas.pydata.org/pandas-docs/stable/user_guide/indexing.html#returning-a-view-versus-a-copy\n",
      "  \"\"\"Entry point for launching an IPython kernel.\n",
      "C:\\Users\\AU0006AU\\AppData\\Local\\Continuum\\anaconda3\\envs\\pythondata\\lib\\site-packages\\ipykernel_launcher.py:2: SettingWithCopyWarning: \n",
      "A value is trying to be set on a copy of a slice from a DataFrame.\n",
      "Try using .loc[row_indexer,col_indexer] = value instead\n",
      "\n",
      "See the caveats in the documentation: http://pandas.pydata.org/pandas-docs/stable/user_guide/indexing.html#returning-a-view-versus-a-copy\n",
      "  \n",
      "C:\\Users\\AU0006AU\\AppData\\Local\\Continuum\\anaconda3\\envs\\pythondata\\lib\\site-packages\\ipykernel_launcher.py:3: SettingWithCopyWarning: \n",
      "A value is trying to be set on a copy of a slice from a DataFrame.\n",
      "Try using .loc[row_indexer,col_indexer] = value instead\n",
      "\n",
      "See the caveats in the documentation: http://pandas.pydata.org/pandas-docs/stable/user_guide/indexing.html#returning-a-view-versus-a-copy\n",
      "  This is separate from the ipykernel package so we can avoid doing imports until\n"
     ]
    }
   ],
   "source": [
    "summarized_merged_df[\"Date Local\"] = pd.to_datetime(summarized_merged_df[\"Date Local\"])\n",
    "summarized_merged_df[\"Year\"] = summarized_merged_df[\"Date Local\"].values.astype(\"datetime64[Y]\")\n",
    "summarized_merged_df[\"Year\"] = pd.DatetimeIndex(summarized_merged_df['Date Local']).year\n",
    "#summarized_merged_df"
   ]
  },
  {
   "cell_type": "code",
   "execution_count": 13,
   "metadata": {},
   "outputs": [
    {
     "data": {
      "text/plain": [
       "Year  State Name   \n",
       "1980  Alabama          0.026585\n",
       "      Alaska           0.023780\n",
       "      Arizona          0.029548\n",
       "      Arkansas         0.032491\n",
       "      California       0.029755\n",
       "                         ...   \n",
       "2019  Virginia         0.035621\n",
       "      Washington       0.029181\n",
       "      West Virginia    0.031881\n",
       "      Wisconsin        0.034317\n",
       "      Wyoming          0.041431\n",
       "Name: Arithmetic Mean, Length: 2083, dtype: float64"
      ]
     },
     "execution_count": 13,
     "metadata": {},
     "output_type": "execute_result"
    }
   ],
   "source": [
    "merged_average = summarized_merged_df.groupby([\"Year\", \"State Name\"])[\"Arithmetic Mean\"].mean()\n",
    "merged_average"
   ]
  },
  {
   "cell_type": "code",
   "execution_count": 14,
   "metadata": {},
   "outputs": [
    {
     "name": "stderr",
     "output_type": "stream",
     "text": [
      "C:\\Users\\AU0006AU\\AppData\\Local\\Continuum\\anaconda3\\envs\\pythondata\\lib\\site-packages\\ipykernel_launcher.py:1: FutureWarning: The signature of `Series.to_csv` was aligned to that of `DataFrame.to_csv`, and argument 'header' will change its default value from False to True: please pass an explicit value to suppress this warning.\n",
      "  \"\"\"Entry point for launching an IPython kernel.\n"
     ]
    }
   ],
   "source": [
    "merged_average.to_csv(\"output/ozone_averaged.csv\")"
   ]
  },
  {
   "cell_type": "code",
   "execution_count": null,
   "metadata": {},
   "outputs": [],
   "source": []
  }
 ],
 "metadata": {
  "kernelspec": {
   "display_name": "Python 3",
   "language": "python",
   "name": "python3"
  },
  "language_info": {
   "codemirror_mode": {
    "name": "ipython",
    "version": 3
   },
   "file_extension": ".py",
   "mimetype": "text/x-python",
   "name": "python",
   "nbconvert_exporter": "python",
   "pygments_lexer": "ipython3",
   "version": "3.7.1"
  }
 },
 "nbformat": 4,
 "nbformat_minor": 2
}
